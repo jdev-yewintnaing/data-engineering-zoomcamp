{
 "cells": [
  {
   "cell_type": "code",
   "execution_count": 2,
   "id": "ed6bfed8",
   "metadata": {},
   "outputs": [
    {
     "name": "stdout",
     "output_type": "stream",
     "text": [
      "  % Total    % Received % Xferd  Average Speed   Time    Time     Time  Current\n",
      "                                 Dload  Upload   Total   Spent    Left  Speed\n",
      "100 61.3M  100 61.3M    0     0  14.6M      0  0:00:04  0:00:04 --:--:-- 14.7M.6M\n"
     ]
    }
   ],
   "source": [
    "!curl -O https://d37ci6vzurychx.cloudfront.net/trip-data/yellow_tripdata_2024-10.parquet\n"
   ]
  },
  {
   "cell_type": "code",
   "execution_count": 3,
   "id": "1a0c7f92",
   "metadata": {},
   "outputs": [],
   "source": [
    "import pyspark\n"
   ]
  },
  {
   "cell_type": "code",
   "execution_count": 4,
   "id": "c561bcd2",
   "metadata": {},
   "outputs": [
    {
     "data": {
      "text/plain": [
       "'3.5.5'"
      ]
     },
     "execution_count": 4,
     "metadata": {},
     "output_type": "execute_result"
    }
   ],
   "source": [
    "pyspark.__version__"
   ]
  },
  {
   "cell_type": "code",
   "execution_count": 6,
   "id": "adfa6e77",
   "metadata": {},
   "outputs": [],
   "source": [
    "from pyspark.sql import SparkSession\n"
   ]
  },
  {
   "cell_type": "code",
   "execution_count": 7,
   "id": "2f2ee8de",
   "metadata": {},
   "outputs": [
    {
     "name": "stderr",
     "output_type": "stream",
     "text": [
      "Picked up JAVA_TOOL_OPTIONS: -Djava.security.manager=allow\n",
      "Picked up JAVA_TOOL_OPTIONS: -Djava.security.manager=allow\n",
      "25/03/07 22:46:38 WARN Utils: Your hostname, Yes-MacBook-Pro.local resolves to a loopback address: 127.0.0.1; using 192.168.18.79 instead (on interface en0)\n",
      "25/03/07 22:46:38 WARN Utils: Set SPARK_LOCAL_IP if you need to bind to another address\n",
      "Setting default log level to \"WARN\".\n",
      "To adjust logging level use sc.setLogLevel(newLevel). For SparkR, use setLogLevel(newLevel).\n",
      "25/03/07 22:46:38 WARN NativeCodeLoader: Unable to load native-hadoop library for your platform... using builtin-java classes where applicable\n",
      "25/03/07 22:46:39 WARN Utils: Service 'SparkUI' could not bind on port 4040. Attempting port 4041.\n"
     ]
    }
   ],
   "source": [
    "spark = SparkSession.builder \\\n",
    "    .master(\"local[*]\") \\\n",
    "    .appName('test') \\\n",
    "    .getOrCreate()"
   ]
  },
  {
   "cell_type": "code",
   "execution_count": 9,
   "id": "f44082c9",
   "metadata": {},
   "outputs": [
    {
     "data": {
      "text/plain": [
       "'3.5.5'"
      ]
     },
     "execution_count": 9,
     "metadata": {},
     "output_type": "execute_result"
    },
    {
     "name": "stderr",
     "output_type": "stream",
     "text": [
      "25/03/07 22:46:52 WARN GarbageCollectionMetrics: To enable non-built-in garbage collector(s) List(G1 Concurrent GC), users should configure it(them) to spark.eventLog.gcMetrics.youngGenerationGarbageCollectors or spark.eventLog.gcMetrics.oldGenerationGarbageCollectors\n"
     ]
    }
   ],
   "source": [
    "spark.version"
   ]
  },
  {
   "cell_type": "code",
   "execution_count": 10,
   "id": "9713591f",
   "metadata": {},
   "outputs": [],
   "source": [
    "df = spark.read \\\n",
    "    .option(\"header\", \"true\") \\\n",
    "    .parquet('yellow_tripdata_2024-10.parquet')\n"
   ]
  },
  {
   "cell_type": "code",
   "execution_count": 12,
   "id": "07f9435e",
   "metadata": {},
   "outputs": [
    {
     "data": {
      "text/plain": [
       "StructType([StructField('VendorID', IntegerType(), True), StructField('tpep_pickup_datetime', TimestampNTZType(), True), StructField('tpep_dropoff_datetime', TimestampNTZType(), True), StructField('passenger_count', LongType(), True), StructField('trip_distance', DoubleType(), True), StructField('RatecodeID', LongType(), True), StructField('store_and_fwd_flag', StringType(), True), StructField('PULocationID', IntegerType(), True), StructField('DOLocationID', IntegerType(), True), StructField('payment_type', LongType(), True), StructField('fare_amount', DoubleType(), True), StructField('extra', DoubleType(), True), StructField('mta_tax', DoubleType(), True), StructField('tip_amount', DoubleType(), True), StructField('tolls_amount', DoubleType(), True), StructField('improvement_surcharge', DoubleType(), True), StructField('total_amount', DoubleType(), True), StructField('congestion_surcharge', DoubleType(), True), StructField('Airport_fee', DoubleType(), True)])"
      ]
     },
     "execution_count": 12,
     "metadata": {},
     "output_type": "execute_result"
    }
   ],
   "source": [
    "df.schema"
   ]
  },
  {
   "cell_type": "code",
   "execution_count": 13,
   "id": "4f6b1363",
   "metadata": {},
   "outputs": [],
   "source": [
    "from pyspark.sql import types"
   ]
  },
  {
   "cell_type": "code",
   "execution_count": 14,
   "id": "d123e13f",
   "metadata": {},
   "outputs": [],
   "source": [
    "schema = types.StructType([\n",
    "    types.StructField('VendorID', types.IntegerType(), True), \n",
    "    types.StructField('tpep_pickup_datetime', types.TimestampType(), True), \n",
    "    types.StructField('tpep_dropoff_datetime', types.TimestampType(), True), \n",
    "    types.StructField('passenger_count', types.LongType(), True), \n",
    "    types.StructField('trip_distance', types.DoubleType(), True), \n",
    "    types.StructField('RatecodeID', types.LongType(), True), \n",
    "    types.StructField('store_and_fwd_flag', types.StringType(), True), \n",
    "    types.StructField('PULocationID', types.IntegerType(), True), \n",
    "    types.StructField('DOLocationID', types.IntegerType(), True), \n",
    "    types.StructField('payment_type', types.LongType(), True), \n",
    "    types.StructField('fare_amount', types.DoubleType(), True), \n",
    "    types.StructField('extra', types.DoubleType(), True), \n",
    "    types.StructField('mta_tax', types.DoubleType(), True), \n",
    "    types.StructField('tip_amount', types.DoubleType(), True), \n",
    "    types.StructField('tolls_amount', types.DoubleType(), True), \n",
    "    types.StructField('improvement_surcharge', types.DoubleType(), True), \n",
    "    types.StructField('total_amount', types.DoubleType(), True), \n",
    "    types.StructField('congestion_surcharge', types.DoubleType(), True), \n",
    "    types.StructField('Airport_fee', types.DoubleType(), True)\n",
    "    ])"
   ]
  },
  {
   "cell_type": "code",
   "execution_count": 15,
   "id": "3d6da765",
   "metadata": {},
   "outputs": [],
   "source": [
    "df = spark.read \\\n",
    "    .option(\"header\", \"true\") \\\n",
    "    .schema(schema)\\\n",
    "    .parquet('yellow_tripdata_2024-10.parquet')\n"
   ]
  },
  {
   "cell_type": "code",
   "execution_count": 16,
   "id": "7a12d397",
   "metadata": {},
   "outputs": [
    {
     "data": {
      "text/plain": [
       "[Row(VendorID=2, tpep_pickup_datetime=datetime.datetime(2024, 10, 1, 8, 30, 44), tpep_dropoff_datetime=datetime.datetime(2024, 10, 1, 8, 48, 26), passenger_count=1, trip_distance=3.0, RatecodeID=1, store_and_fwd_flag='N', PULocationID=162, DOLocationID=246, payment_type=1, fare_amount=18.4, extra=1.0, mta_tax=0.5, tip_amount=1.5, tolls_amount=0.0, improvement_surcharge=1.0, total_amount=24.9, congestion_surcharge=2.5, Airport_fee=0.0),\n",
       " Row(VendorID=1, tpep_pickup_datetime=datetime.datetime(2024, 10, 1, 8, 12, 20), tpep_dropoff_datetime=datetime.datetime(2024, 10, 1, 8, 25, 25), passenger_count=1, trip_distance=2.2, RatecodeID=1, store_and_fwd_flag='N', PULocationID=48, DOLocationID=236, payment_type=1, fare_amount=14.2, extra=3.5, mta_tax=0.5, tip_amount=3.8, tolls_amount=0.0, improvement_surcharge=1.0, total_amount=23.0, congestion_surcharge=2.5, Airport_fee=0.0),\n",
       " Row(VendorID=1, tpep_pickup_datetime=datetime.datetime(2024, 10, 1, 8, 4, 46), tpep_dropoff_datetime=datetime.datetime(2024, 10, 1, 8, 13, 52), passenger_count=1, trip_distance=2.7, RatecodeID=1, store_and_fwd_flag='N', PULocationID=142, DOLocationID=24, payment_type=1, fare_amount=13.5, extra=3.5, mta_tax=0.5, tip_amount=3.7, tolls_amount=0.0, improvement_surcharge=1.0, total_amount=22.2, congestion_surcharge=2.5, Airport_fee=0.0),\n",
       " Row(VendorID=1, tpep_pickup_datetime=datetime.datetime(2024, 10, 1, 8, 12, 10), tpep_dropoff_datetime=datetime.datetime(2024, 10, 1, 8, 23, 1), passenger_count=1, trip_distance=3.1, RatecodeID=1, store_and_fwd_flag='N', PULocationID=233, DOLocationID=75, payment_type=1, fare_amount=14.2, extra=3.5, mta_tax=0.5, tip_amount=2.0, tolls_amount=0.0, improvement_surcharge=1.0, total_amount=21.2, congestion_surcharge=2.5, Airport_fee=0.0),\n",
       " Row(VendorID=1, tpep_pickup_datetime=datetime.datetime(2024, 10, 1, 8, 30, 22), tpep_dropoff_datetime=datetime.datetime(2024, 10, 1, 8, 30, 39), passenger_count=1, trip_distance=0.0, RatecodeID=1, store_and_fwd_flag='N', PULocationID=262, DOLocationID=262, payment_type=3, fare_amount=3.0, extra=3.5, mta_tax=0.5, tip_amount=0.0, tolls_amount=0.0, improvement_surcharge=1.0, total_amount=8.0, congestion_surcharge=2.5, Airport_fee=0.0),\n",
       " Row(VendorID=2, tpep_pickup_datetime=datetime.datetime(2024, 10, 1, 8, 31, 20), tpep_dropoff_datetime=datetime.datetime(2024, 10, 1, 8, 36), passenger_count=2, trip_distance=0.97, RatecodeID=1, store_and_fwd_flag='N', PULocationID=137, DOLocationID=137, payment_type=1, fare_amount=7.2, extra=1.0, mta_tax=0.5, tip_amount=2.44, tolls_amount=0.0, improvement_surcharge=1.0, total_amount=14.64, congestion_surcharge=2.5, Airport_fee=0.0),\n",
       " Row(VendorID=1, tpep_pickup_datetime=datetime.datetime(2024, 10, 1, 8, 42, 57), tpep_dropoff_datetime=datetime.datetime(2024, 10, 1, 8, 49, 1), passenger_count=1, trip_distance=1.3, RatecodeID=1, store_and_fwd_flag='N', PULocationID=142, DOLocationID=48, payment_type=1, fare_amount=7.9, extra=3.5, mta_tax=0.5, tip_amount=2.55, tolls_amount=0.0, improvement_surcharge=1.0, total_amount=15.45, congestion_surcharge=2.5, Airport_fee=0.0),\n",
       " Row(VendorID=1, tpep_pickup_datetime=datetime.datetime(2024, 10, 1, 8, 59, 55), tpep_dropoff_datetime=datetime.datetime(2024, 10, 1, 9, 2, 24), passenger_count=1, trip_distance=0.5, RatecodeID=1, store_and_fwd_flag='N', PULocationID=230, DOLocationID=161, payment_type=1, fare_amount=5.1, extra=3.5, mta_tax=0.5, tip_amount=2.0, tolls_amount=0.0, improvement_surcharge=1.0, total_amount=12.1, congestion_surcharge=2.5, Airport_fee=0.0),\n",
       " Row(VendorID=1, tpep_pickup_datetime=datetime.datetime(2024, 10, 1, 8, 0, 47), tpep_dropoff_datetime=datetime.datetime(2024, 10, 1, 8, 4, 22), passenger_count=0, trip_distance=1.1, RatecodeID=1, store_and_fwd_flag='N', PULocationID=142, DOLocationID=237, payment_type=1, fare_amount=7.2, extra=3.5, mta_tax=0.5, tip_amount=3.0, tolls_amount=0.0, improvement_surcharge=1.0, total_amount=15.2, congestion_surcharge=2.5, Airport_fee=0.0),\n",
       " Row(VendorID=1, tpep_pickup_datetime=datetime.datetime(2024, 10, 1, 8, 17, 36), tpep_dropoff_datetime=datetime.datetime(2024, 10, 1, 8, 26, 22), passenger_count=1, trip_distance=2.2, RatecodeID=1, store_and_fwd_flag='N', PULocationID=162, DOLocationID=145, payment_type=1, fare_amount=11.4, extra=3.5, mta_tax=0.5, tip_amount=3.3, tolls_amount=0.0, improvement_surcharge=1.0, total_amount=19.7, congestion_surcharge=2.5, Airport_fee=0.0)]"
      ]
     },
     "execution_count": 16,
     "metadata": {},
     "output_type": "execute_result"
    }
   ],
   "source": [
    "df.head(10)"
   ]
  },
  {
   "cell_type": "code",
   "execution_count": 17,
   "id": "ea9cfcfa",
   "metadata": {},
   "outputs": [],
   "source": [
    "df = df.repartition(4)"
   ]
  },
  {
   "cell_type": "code",
   "execution_count": 18,
   "id": "fbdcb71e",
   "metadata": {},
   "outputs": [
    {
     "name": "stderr",
     "output_type": "stream",
     "text": [
      "                                                                                \r"
     ]
    }
   ],
   "source": [
    "df.write.parquet('yellow/2024/10/')"
   ]
  },
  {
   "cell_type": "code",
   "execution_count": 19,
   "id": "63935ae8",
   "metadata": {},
   "outputs": [],
   "source": [
    "df = spark.read.parquet('yellow/2024/10/')"
   ]
  },
  {
   "cell_type": "code",
   "execution_count": 22,
   "id": "715878ce",
   "metadata": {},
   "outputs": [],
   "source": [
    "from pyspark.sql import functions as F"
   ]
  },
  {
   "cell_type": "code",
   "execution_count": 20,
   "id": "a1f6e3c4",
   "metadata": {
    "scrolled": true
   },
   "outputs": [
    {
     "name": "stdout",
     "output_type": "stream",
     "text": [
      "root\n",
      " |-- VendorID: integer (nullable = true)\n",
      " |-- tpep_pickup_datetime: timestamp (nullable = true)\n",
      " |-- tpep_dropoff_datetime: timestamp (nullable = true)\n",
      " |-- passenger_count: long (nullable = true)\n",
      " |-- trip_distance: double (nullable = true)\n",
      " |-- RatecodeID: long (nullable = true)\n",
      " |-- store_and_fwd_flag: string (nullable = true)\n",
      " |-- PULocationID: integer (nullable = true)\n",
      " |-- DOLocationID: integer (nullable = true)\n",
      " |-- payment_type: long (nullable = true)\n",
      " |-- fare_amount: double (nullable = true)\n",
      " |-- extra: double (nullable = true)\n",
      " |-- mta_tax: double (nullable = true)\n",
      " |-- tip_amount: double (nullable = true)\n",
      " |-- tolls_amount: double (nullable = true)\n",
      " |-- improvement_surcharge: double (nullable = true)\n",
      " |-- total_amount: double (nullable = true)\n",
      " |-- congestion_surcharge: double (nullable = true)\n",
      " |-- Airport_fee: double (nullable = true)\n",
      "\n"
     ]
    }
   ],
   "source": [
    "df.printSchema()"
   ]
  },
  {
   "cell_type": "code",
   "execution_count": 30,
   "id": "4c8522eb",
   "metadata": {},
   "outputs": [
    {
     "name": "stdout",
     "output_type": "stream",
     "text": [
      "+--------------------+\n",
      "|tpep_pickup_datetime|\n",
      "+--------------------+\n",
      "|          2024-10-05|\n",
      "|          2024-10-04|\n",
      "|          2024-10-04|\n",
      "|          2024-10-02|\n",
      "|          2024-10-11|\n",
      "|          2024-10-03|\n",
      "|          2024-10-09|\n",
      "|          2024-10-10|\n",
      "|          2024-10-10|\n",
      "|          2024-10-05|\n",
      "|          2024-10-09|\n",
      "|          2024-10-11|\n",
      "|          2024-10-03|\n",
      "|          2024-10-04|\n",
      "|          2024-10-08|\n",
      "|          2024-10-06|\n",
      "|          2024-10-01|\n",
      "|          2024-10-09|\n",
      "|          2024-10-07|\n",
      "|          2024-10-07|\n",
      "+--------------------+\n",
      "only showing top 20 rows\n",
      "\n"
     ]
    }
   ],
   "source": [
    "df \\\n",
    "  .withColumn('tpep_pickup_datetime', F.to_date(df.tpep_pickup_datetime))\\\n",
    "  .select('tpep_pickup_datetime')\\\n",
    "  .show()"
   ]
  },
  {
   "cell_type": "code",
   "execution_count": 24,
   "id": "be6c0bf1",
   "metadata": {},
   "outputs": [],
   "source": [
    "df_filtered = df.filter(F.to_date(df.tpep_pickup_datetime) == \"2024-10-15\")  # Adjust year if needed\n"
   ]
  },
  {
   "cell_type": "code",
   "execution_count": 25,
   "id": "f7f3a481",
   "metadata": {},
   "outputs": [
    {
     "data": {
      "text/plain": [
       "116396"
      ]
     },
     "execution_count": 25,
     "metadata": {},
     "output_type": "execute_result"
    }
   ],
   "source": [
    "df_filtered.count()"
   ]
  },
  {
   "cell_type": "code",
   "execution_count": 37,
   "id": "2be5993e",
   "metadata": {},
   "outputs": [],
   "source": [
    "df_with_duration = df.withColumn(\n",
    "    \"trip_duration_hours\",\n",
    "    (F.unix_timestamp(F.col(\"tpep_dropoff_datetime\")) - F.unix_timestamp(F.col(\"tpep_pickup_datetime\"))) / 3600\n",
    ")"
   ]
  },
  {
   "cell_type": "code",
   "execution_count": 38,
   "id": "223f7e45",
   "metadata": {},
   "outputs": [],
   "source": [
    "max_duration = df_with_duration.select(F.max(F.col(\"trip_duration_hours\"))).collect()[0][0]\n"
   ]
  },
  {
   "cell_type": "code",
   "execution_count": 39,
   "id": "89597fcb",
   "metadata": {},
   "outputs": [
    {
     "data": {
      "text/plain": [
       "162.61777777777777"
      ]
     },
     "execution_count": 39,
     "metadata": {},
     "output_type": "execute_result"
    }
   ],
   "source": [
    "max_duration"
   ]
  },
  {
   "cell_type": "code",
   "execution_count": 40,
   "id": "d9da4511",
   "metadata": {},
   "outputs": [],
   "source": [
    "df_zones = spark.read.csv(\"taxi_zone_lookup_2.csv\", header=True, inferSchema=True)\n"
   ]
  },
  {
   "cell_type": "code",
   "execution_count": 41,
   "id": "a2c2a805",
   "metadata": {},
   "outputs": [
    {
     "data": {
      "text/plain": [
       "[Row(LocationID=1, Borough='EWR', Zone='Newark Airport', service_zone='EWR'),\n",
       " Row(LocationID=2, Borough='Queens', Zone='Jamaica Bay', service_zone='Boro Zone'),\n",
       " Row(LocationID=3, Borough='Bronx', Zone='Allerton/Pelham Gardens', service_zone='Boro Zone'),\n",
       " Row(LocationID=4, Borough='Manhattan', Zone='Alphabet City', service_zone='Yellow Zone'),\n",
       " Row(LocationID=5, Borough='Staten Island', Zone='Arden Heights', service_zone='Boro Zone')]"
      ]
     },
     "execution_count": 41,
     "metadata": {},
     "output_type": "execute_result"
    }
   ],
   "source": [
    "df_zones.head(5)"
   ]
  },
  {
   "cell_type": "code",
   "execution_count": 42,
   "id": "15492ccf",
   "metadata": {},
   "outputs": [],
   "source": [
    "df_zones.createOrReplaceTempView(\"taxi_zone_lookup\")\n"
   ]
  },
  {
   "cell_type": "code",
   "execution_count": 43,
   "id": "b5e8b623",
   "metadata": {},
   "outputs": [
    {
     "name": "stdout",
     "output_type": "stream",
     "text": [
      "+----------+-------------+--------------------+------------+\n",
      "|LocationID|      Borough|                Zone|service_zone|\n",
      "+----------+-------------+--------------------+------------+\n",
      "|         1|          EWR|      Newark Airport|         EWR|\n",
      "|         2|       Queens|         Jamaica Bay|   Boro Zone|\n",
      "|         3|        Bronx|Allerton/Pelham G...|   Boro Zone|\n",
      "|         4|    Manhattan|       Alphabet City| Yellow Zone|\n",
      "|         5|Staten Island|       Arden Heights|   Boro Zone|\n",
      "+----------+-------------+--------------------+------------+\n",
      "\n"
     ]
    }
   ],
   "source": [
    "spark.sql(\"SELECT * FROM taxi_zone_lookup LIMIT 5\").show()\n"
   ]
  },
  {
   "cell_type": "code",
   "execution_count": 46,
   "id": "6f9f221a",
   "metadata": {},
   "outputs": [
    {
     "name": "stdout",
     "output_type": "stream",
     "text": [
      "root\n",
      " |-- LocationID: integer (nullable = true)\n",
      " |-- Borough: string (nullable = true)\n",
      " |-- Zone: string (nullable = true)\n",
      " |-- service_zone: string (nullable = true)\n",
      "\n"
     ]
    }
   ],
   "source": [
    "df_zones.printSchema()"
   ]
  },
  {
   "cell_type": "code",
   "execution_count": 47,
   "id": "e4d4c808",
   "metadata": {},
   "outputs": [],
   "source": [
    "df.createOrReplaceTempView(\"yellow_taxi\")"
   ]
  },
  {
   "cell_type": "code",
   "execution_count": 48,
   "id": "5190bf33",
   "metadata": {},
   "outputs": [],
   "source": [
    "query = \"\"\"\n",
    "SELECT tz.Zone, COUNT(yt.PULocationID) AS pickup_count\n",
    "FROM yellow_taxi yt\n",
    "JOIN taxi_zone_lookup tz ON yt.PULocationID = tz.LocationID\n",
    "GROUP BY tz.Zone\n",
    "ORDER BY pickup_count ASC\n",
    "LIMIT 1\n",
    "\"\"\"\n",
    "\n",
    "# Execute SQL query\n",
    "least_frequent_pickup = spark.sql(query)"
   ]
  },
  {
   "cell_type": "code",
   "execution_count": 49,
   "id": "c540ed63",
   "metadata": {},
   "outputs": [
    {
     "name": "stdout",
     "output_type": "stream",
     "text": [
      "+--------------------+------------+\n",
      "|                Zone|pickup_count|\n",
      "+--------------------+------------+\n",
      "|Governor's Island...|           1|\n",
      "+--------------------+------------+\n",
      "\n"
     ]
    }
   ],
   "source": [
    "least_frequent_pickup.show()\n"
   ]
  }
 ],
 "metadata": {
  "kernelspec": {
   "display_name": "Python 3 (ipykernel)",
   "language": "python",
   "name": "python3"
  },
  "language_info": {
   "codemirror_mode": {
    "name": "ipython",
    "version": 3
   },
   "file_extension": ".py",
   "mimetype": "text/x-python",
   "name": "python",
   "nbconvert_exporter": "python",
   "pygments_lexer": "ipython3",
   "version": "3.11.5"
  }
 },
 "nbformat": 4,
 "nbformat_minor": 5
}
